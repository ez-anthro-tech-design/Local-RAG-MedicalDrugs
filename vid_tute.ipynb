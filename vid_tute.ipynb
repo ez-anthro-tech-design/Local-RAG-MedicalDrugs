{
 "cells": [
  {
   "cell_type": "markdown",
   "id": "a407af58-4131-4050-975b-3d399fc20c56",
   "metadata": {},
   "source": [
    "## Document/text processing and embedding creation\n",
    "\n",
    "* PDF document of choice (or other file types\n",
    "* Embedding model of choice\n",
    "\n",
    "1. Import PDF document\n",
    "2. Process text for embedding (split into chunks of sentences)\n",
    "3. Embed text chunks with embedding model\n",
    "4. Save embeddings to files for later "
   ]
  },
  {
   "cell_type": "code",
   "execution_count": 1,
   "id": "f89602f6-de17-4f85-9a08-b4f0e1614c29",
   "metadata": {},
   "outputs": [
    {
     "name": "stdout",
     "output_type": "stream",
     "text": [
      "File A MANUAL OF ADVERSE DRUG INTERACTIONS.pdf exists.\n"
     ]
    }
   ],
   "source": [
    "import os\n",
    "import requests\n",
    "\n",
    "pdf_path = \"A MANUAL OF ADVERSE DRUG INTERACTIONS.pdf\"\n",
    "\n",
    "if not os.path.exists(pdf_path):\n",
    "    print (f\"[INFO] File doesn't exist, downloading...\")\n",
    "\n",
    "    url = \"http://repo.upertis.ac.id/1645/1/A%20MANUAL%20OF%20ADVERSE%20DRUG%20INTERACTIONS.pdf\"\n",
    "\n",
    "    filename = pdf_path\n",
    "\n",
    "    response = requests.get(url)\n",
    "\n",
    "    # if successful\n",
    "    if response.status_code == 200:\n",
    "        with open(filename, \"wb\") as file:\n",
    "            file.write(response.content)\n",
    "        print(f\"[INFO] The file has been download and saved as {filename}\")\n",
    "    else:\n",
    "        print(f\"[INFO] Failed to download the file. Status code: {response.status_code}\")\n",
    "\n",
    "else:\n",
    "    print(f\"File {pdf_path} exists.\")"
   ]
  },
  {
   "cell_type": "code",
   "execution_count": 2,
   "id": "3d1cd1ce-9131-486a-976b-3477065cd53a",
   "metadata": {},
   "outputs": [
    {
     "data": {
      "application/vnd.jupyter.widget-view+json": {
       "model_id": "ccf2c26f0c8c484685b698907845084b",
       "version_major": 2,
       "version_minor": 0
      },
      "text/plain": [
       "0it [00:00, ?it/s]"
      ]
     },
     "metadata": {},
     "output_type": "display_data"
    },
    {
     "data": {
      "text/plain": [
       "{'page_number': 238,\n",
       " 'page_char_count': 1842,\n",
       " 'page_word_count': 266,\n",
       " 'page_sentence_count_raw': 11,\n",
       " 'page_token_count': 460.5,\n",
       " 'text': 'INTERACTIONS WITH SYMPATHOMIMETIC AMINES 239 Combination Interaction administration of dopamine should receive substantially reduced dosage of dopamine. The starting dose in such patients should be reduced to one tenth (1110) of the usual dose. MAOI | dopexamine (6) Dopexamine is contraindicated in patients receiving MA01 MAOIhoradrenaline (7, 8) This interaction may produce a hypertensive crisis. However, noradrenaline is very rapidly taken up from circulation by adrenergic nerves and is inactivated by COMT enzyme, Therefore since monamine oxidase is probably little involved in this metabolism, the interaction is less likely than with other sympathomimetic amines which rely upon monoamine oxidase for their inactivation. Although noradrenaline is less likely to induce a hypertensive episode in patients receiving MA01 antidepressants than other sympathomimetic drugs, the risk is still present. Thus it would be wise to adhere to the general contraindication of all sympathomimetics in patients receiving such antidepressants. MAOI |  phenylpropanolamine reported with this interaction. (9-12) Hypertensive crises with fatal episodes have been Phenylpropanolamine is a common ingredient of many proprietary remedies designed to alleviate symptoms of the common cold, hay fever and rhinitis, etc. This combination is dangerous; phenylpropanolamine should not be given to patients being treated with a MA01 antidepressant or within 2 weeks of stopping such treatment. The UK government has (January 1984) proposed that all medicinal products containing phenylpropanolamine will be available only on prescription except where products are indicated for the relief of cough, colds and hay fever, with a recommended maximum daily dose of not more than 75 mg. The maximum permitted strength of nasal sprays and nasal drops will remain at'}"
      ]
     },
     "execution_count": 2,
     "metadata": {},
     "output_type": "execute_result"
    }
   ],
   "source": [
    "import pymupdf \n",
    "from tqdm.auto import tqdm\n",
    "\n",
    "\n",
    "def text_formatter(text: str) -> str:\n",
    "    \"\"\"Performs pre-processing text formatting\"\"\"\n",
    "    cleaned_text = text.replace(\"\\n\", \" \").strip()\n",
    "    cleaned_text = \" \".join(cleaned_text.split())\n",
    "    cleaned_text = cleaned_text.replace(\"/\", \" | \")\n",
    "    return cleaned_text \n",
    "\n",
    "def open_and_read_pdf(pdf_path: str) -> list[dict]:\n",
    "    doc = pymupdf.open(pdf_path)\n",
    "    pages_and_texts = []\n",
    "    for page_number, page in tqdm(enumerate(doc)):\n",
    "        if page_number < 15:\n",
    "            continue\n",
    "        text = page.get_text()\n",
    "        text = text_formatter(text=text)\n",
    "        pages_and_texts.append({\"page_number\": page_number - 14 - 1,\n",
    "                                \"page_char_count\": len(text),\n",
    "                                \"page_word_count\": len(text.split(\" \")),\n",
    "                                \"page_sentence_count_raw\": len(text.split(\". \")),\n",
    "                                \"page_token_count\": len(text) / 4,\n",
    "                                \"text\": text})\n",
    "    return pages_and_texts\n",
    "pages_and_texts = open_and_read_pdf(pdf_path=pdf_path)\n",
    "\n",
    "pages_and_texts[238]"
   ]
  },
  {
   "cell_type": "code",
   "execution_count": 3,
   "id": "c071c784",
   "metadata": {},
   "outputs": [
    {
     "data": {
      "text/plain": [
       "'\\nimport openparse\\nbasic_doc_path = pdf_path\\nparser = openparse.DocumentParser()\\nparsed_basic_doc = parser.parse(basic_doc_path)\\n\\nfor node in parsed_basic_doc.nodes:\\n    op_pages_and_texts = []\\n    op_pages_and_texts.append(node)\\n'"
      ]
     },
     "execution_count": 3,
     "metadata": {},
     "output_type": "execute_result"
    }
   ],
   "source": [
    "'''\n",
    "import openparse\n",
    "basic_doc_path = pdf_path\n",
    "parser = openparse.DocumentParser()\n",
    "parsed_basic_doc = parser.parse(basic_doc_path)\n",
    "\n",
    "for node in parsed_basic_doc.nodes:\n",
    "    op_pages_and_texts = []\n",
    "    op_pages_and_texts.append(node)\n",
    "'''\n"
   ]
  },
  {
   "cell_type": "code",
   "execution_count": 4,
   "id": "62de6a9f-9117-4296-8973-4e90e2049543",
   "metadata": {},
   "outputs": [
    {
     "data": {
      "text/plain": [
       "[{'page_number': 395,\n",
       "  'page_char_count': 1217,\n",
       "  'page_word_count': 148,\n",
       "  'page_sentence_count_raw': 13,\n",
       "  'page_token_count': 304.25,\n",
       "  'text': '396 A MANUAL OF ADVERSE DRUG INTERACTIONS Combination Antacids and Absorbants |  isoniazid Antibioticslisoniazid (cycloserine) (222) Anti-epileptics | isoniazid e.g. carbamazepine ethosuximide phenytoin (1 , 217-220) Benzodiazepines | isoniazid e.g. diazepam Xanthineshsoniazid (theophylline) (221) Interaction Reduced absorption of isoniazid. Increased CNS toxicity of cycloserine due to isoniazid inhibition of its metabolism. Isoniazid inhibits the hepatic metabolism of these anti- epileptics and increases risk of toxicity. Metabolism of diazepam is inhibited. Isoniazid increases plasma levels of theophylline. 6. Cycloserine Cycloserine is contraindicated in patients with epilepsy, depression, renal insuf- ficiency or alcohol abuse. Combination Interaction Alcohokycloserine (223) Cycloserine enhances the CNS effects of alcohol and concurrent use may induce convulsions. Antibioticdcycloserine (isoniazid) (222) Isoniazid increases cycloserine plasma levels due to inhibition of hepatic metabolism. Therefore, increases CNS toxicity. Anti-epileptics1 cycloserine (phenytoin) (1) Cycloserine given to epileptics receiving phenytoin increases plasma concentration of phenytoin with increased risk of toxicity.'},\n",
       " {'page_number': 145,\n",
       "  'page_char_count': 1903,\n",
       "  'page_word_count': 372,\n",
       "  'page_sentence_count_raw': 68,\n",
       "  'page_token_count': 475.75,\n",
       "  'text': '146 A MANUAL OF ADVERSE DRUG INTERACTIONS 117 Martindale Reynolds JEF (ed) (1993), The Extra Pharmacopoeia, 30th ed, London, 118 Koch-Weser J et al. (1973) Chest 32, 727. 119 Cuthbert MF. (1966) Br J Anaesth 38, 775. 120 Harrah MD et al. (1970) Anesthesiology 33, 406. 121 Somogyi A, Heinzow B. (1982) N Engl J Med 307, 1080. 122 Reidenberg MM et al. (1980) Clin Pharmacol Ther 28, 732. 123 Gugler R, Somogyi A. (1977) N Engl J Med 301, 435. 124 Ahmad D et al. (1979) Br J Dis Chest 73, 409. 125 Twum-Barima Y, Carruthers SG. (1981) N Engl J Med 304, 1466. 126 Koch-Weser J. (1969) Ann Intern Med 68, 511. 127 Gazzaniga AB, Stewart DR. (1969) N Engl J Med 280, 711. 128 Udall JA. (1969) A m J Cardiol23, 143. 129 Hansten PD. (1975) Drug Interactions, 3rd ed, Philadephia, Lea & Febiger, p. 19. 130 Packman RC (ed) Manual of Medical Therapeutics, 18th ed, Boston, Little, Brown & 131 Milne MD. (1965) Proc R SOC Med 58, 961. 132 Knouss RF et al. (1968) Ann Intern Med 68, 1157. 133 Gerhardt RE et al. (1969) Ann Intern Med 71, 927. 134 Polish LB et al. (1981) Southern Med J 74, 633. 135 Stern S. (1966) Am Heart J 72, 569. 136 Dreifus LS et al. (1968) JAMA 204, 736. 137 Schmidt JL et al. (1963) JAMA 183, 669. 138 McIver AK. (1968) Pharm J 199, 205. 139 Way WL et al. (1967) JAMA 200, 153. 140 Bar-Or D, Yoel G. (1982) Br Med J 282, 1585. 141 Semple CG et al. (1986) Br J Clin Pharmacol22, 187. 142 Rahn KK et al. (1985) N Engl J Med 312, 920. 143 Jaffe R et al. (1994) Ann Pharmacother 28, 881. 144 Lee DW, Cohan B. (1985) Angiology 46, 517. 145 Rey AM, Gums JG (1991) Ann Pharmacother 25, 745. 146 Edeki TI et al. (1995) JAMA 274, 1611. 147 Duvelleroy HC et al. (1995) Therapie 50, 164. 148 Wang L et al. (1994) Clin Pharmacol Ther 55, 28. 149 Spinker SA et al. (1995) Clin Pharmacol Ther 57, 89. 150 Midoneck SR, Etingin OR. (1995) N Engl J Med 333, 1505. Pharmaceutical Press, p. 69.3. Co., p. 114.'},\n",
       " {'page_number': 326,\n",
       "  'page_char_count': 2075,\n",
       "  'page_word_count': 286,\n",
       "  'page_sentence_count_raw': 14,\n",
       "  'page_token_count': 518.75,\n",
       "  'text': 'DRUG INTERACTIONS WITH LITHIUM SALTS 327 Combination Interaction There are theoretical reasons and some clinical data to indicate that serum lithium levels fall when cisplatin is given. This effect appears to be rapidly reversed but it may be important when high-dose cisplatin is repeated frequently. Lithium levels should be carefully monitored under such circumstances (43). Antipsychotic agentdlithium chlorpromazine (44-46) Since the antimanic effect of lithium carbonate may be delayed for 7-10 days after starting treatment, chlorpromazine has been given concurrently for earlier control of manic behaviour. Lithium has been reported to be excreted more rapidly during concomitant treatment with chlorpromazine (44). Concomitant administration of lithium carbonate and chlorpromazine in normal subjects reduced peak plasma chlorpromazine concentrations to 59.7% of levels with chlorpromazine alone. Area under the chlorpromazine concentration-time curve was 2.6% smaller when lithium was taken as well (45). This interaction may explain inadequate responses to therapeutic doses of chlorpromazine. It may also explain why there may be a sudden onset of chlorpromazine toxicity when lithium is withdrawn (46). Use this combination with caution. Haloperidol and other phenothiazines (47-64) There have been isolated reports of neurotoxicity of brain damage (delerium, seizures, encephalopathy, increased incidence of extrapyramidal symptoms) in patients receiving lithium concomitantly with flupenthixol (47), fluphenazine (48), high doses of haloperidol (49-51) or thioridazine (52, 53). However, retrospective studies have failed to detect such adverse interactions in patients receiving lithium and neuroleptics concomitantly (54, 55). It has been suggested (56) that neurotoxicity induced by lithium and neuroleptics is a rare entity, about 40 cases being reported in the literature. There is controversy whether the combination produces any greater risk than either agent alone and there is controversy over whether the neurotoxicity is a distinct diagnostic entity'}]"
      ]
     },
     "execution_count": 4,
     "metadata": {},
     "output_type": "execute_result"
    }
   ],
   "source": [
    "import random\n",
    "random.sample(pages_and_texts, k=3)"
   ]
  },
  {
   "cell_type": "code",
   "execution_count": 5,
   "id": "722ff99f-7bb7-4d1f-b621-49803aa5a5d9",
   "metadata": {},
   "outputs": [
    {
     "data": {
      "text/html": [
       "<div>\n",
       "<style scoped>\n",
       "    .dataframe tbody tr th:only-of-type {\n",
       "        vertical-align: middle;\n",
       "    }\n",
       "\n",
       "    .dataframe tbody tr th {\n",
       "        vertical-align: top;\n",
       "    }\n",
       "\n",
       "    .dataframe thead th {\n",
       "        text-align: right;\n",
       "    }\n",
       "</style>\n",
       "<table border=\"1\" class=\"dataframe\">\n",
       "  <thead>\n",
       "    <tr style=\"text-align: right;\">\n",
       "      <th></th>\n",
       "      <th>page_number</th>\n",
       "      <th>page_char_count</th>\n",
       "      <th>page_word_count</th>\n",
       "      <th>page_sentence_count_raw</th>\n",
       "      <th>page_token_count</th>\n",
       "    </tr>\n",
       "  </thead>\n",
       "  <tbody>\n",
       "    <tr>\n",
       "      <th>count</th>\n",
       "      <td>650.00</td>\n",
       "      <td>650.00</td>\n",
       "      <td>650.00</td>\n",
       "      <td>650.00</td>\n",
       "      <td>650.00</td>\n",
       "    </tr>\n",
       "    <tr>\n",
       "      <th>mean</th>\n",
       "      <td>324.50</td>\n",
       "      <td>1960.83</td>\n",
       "      <td>293.93</td>\n",
       "      <td>21.74</td>\n",
       "      <td>490.21</td>\n",
       "    </tr>\n",
       "    <tr>\n",
       "      <th>std</th>\n",
       "      <td>187.78</td>\n",
       "      <td>794.46</td>\n",
       "      <td>132.54</td>\n",
       "      <td>24.95</td>\n",
       "      <td>198.61</td>\n",
       "    </tr>\n",
       "    <tr>\n",
       "      <th>min</th>\n",
       "      <td>0.00</td>\n",
       "      <td>34.00</td>\n",
       "      <td>4.00</td>\n",
       "      <td>1.00</td>\n",
       "      <td>8.50</td>\n",
       "    </tr>\n",
       "    <tr>\n",
       "      <th>25%</th>\n",
       "      <td>162.25</td>\n",
       "      <td>1718.00</td>\n",
       "      <td>240.00</td>\n",
       "      <td>11.00</td>\n",
       "      <td>429.50</td>\n",
       "    </tr>\n",
       "    <tr>\n",
       "      <th>50%</th>\n",
       "      <td>324.50</td>\n",
       "      <td>2025.00</td>\n",
       "      <td>291.50</td>\n",
       "      <td>14.00</td>\n",
       "      <td>506.25</td>\n",
       "    </tr>\n",
       "    <tr>\n",
       "      <th>75%</th>\n",
       "      <td>486.75</td>\n",
       "      <td>2432.75</td>\n",
       "      <td>365.75</td>\n",
       "      <td>18.75</td>\n",
       "      <td>608.19</td>\n",
       "    </tr>\n",
       "    <tr>\n",
       "      <th>max</th>\n",
       "      <td>649.00</td>\n",
       "      <td>3925.00</td>\n",
       "      <td>598.00</td>\n",
       "      <td>106.00</td>\n",
       "      <td>981.25</td>\n",
       "    </tr>\n",
       "  </tbody>\n",
       "</table>\n",
       "</div>"
      ],
      "text/plain": [
       "       page_number  page_char_count  page_word_count  page_sentence_count_raw  \\\n",
       "count       650.00           650.00           650.00                   650.00   \n",
       "mean        324.50          1960.83           293.93                    21.74   \n",
       "std         187.78           794.46           132.54                    24.95   \n",
       "min           0.00            34.00             4.00                     1.00   \n",
       "25%         162.25          1718.00           240.00                    11.00   \n",
       "50%         324.50          2025.00           291.50                    14.00   \n",
       "75%         486.75          2432.75           365.75                    18.75   \n",
       "max         649.00          3925.00           598.00                   106.00   \n",
       "\n",
       "       page_token_count  \n",
       "count            650.00  \n",
       "mean             490.21  \n",
       "std              198.61  \n",
       "min                8.50  \n",
       "25%              429.50  \n",
       "50%              506.25  \n",
       "75%              608.19  \n",
       "max              981.25  "
      ]
     },
     "execution_count": 5,
     "metadata": {},
     "output_type": "execute_result"
    }
   ],
   "source": [
    "import pandas as pd \n",
    "\n",
    "df = pd.DataFrame(pages_and_texts)\n",
    "df.describe().round(2)"
   ]
  },
  {
   "cell_type": "markdown",
   "id": "e42b4439-93c3-4dd8-baf4-e8d6cfe88208",
   "metadata": {},
   "source": [
    "# Splitting pages into sentences"
   ]
  },
  {
   "cell_type": "code",
   "execution_count": 15,
   "id": "d037caa0-c047-4a0d-8d2b-0016d72a93d5",
   "metadata": {},
   "outputs": [
    {
     "name": "stdout",
     "output_type": "stream",
     "text": [
      "Collecting spacy\n",
      "  Using cached spacy-3.8.4-cp311-cp311-win_amd64.whl.metadata (27 kB)\n",
      "Collecting spacy-legacy<3.1.0,>=3.0.11 (from spacy)\n",
      "  Using cached spacy_legacy-3.0.12-py2.py3-none-any.whl.metadata (2.8 kB)\n",
      "Collecting spacy-loggers<2.0.0,>=1.0.0 (from spacy)\n",
      "  Using cached spacy_loggers-1.0.5-py3-none-any.whl.metadata (23 kB)\n",
      "Collecting murmurhash<1.1.0,>=0.28.0 (from spacy)\n",
      "  Using cached murmurhash-1.0.12-cp311-cp311-win_amd64.whl.metadata (2.2 kB)\n",
      "Collecting cymem<2.1.0,>=2.0.2 (from spacy)\n",
      "  Using cached cymem-2.0.11-cp311-cp311-win_amd64.whl.metadata (8.8 kB)\n",
      "Collecting preshed<3.1.0,>=3.0.2 (from spacy)\n",
      "  Using cached preshed-3.0.9-cp311-cp311-win_amd64.whl.metadata (2.2 kB)\n",
      "Collecting thinc<8.4.0,>=8.3.4 (from spacy)\n",
      "  Using cached thinc-8.3.4-cp311-cp311-win_amd64.whl.metadata (15 kB)\n",
      "Collecting wasabi<1.2.0,>=0.9.1 (from spacy)\n",
      "  Using cached wasabi-1.1.3-py3-none-any.whl.metadata (28 kB)\n",
      "Collecting srsly<3.0.0,>=2.4.3 (from spacy)\n",
      "  Using cached srsly-2.5.1-cp311-cp311-win_amd64.whl.metadata (20 kB)\n",
      "Collecting catalogue<2.1.0,>=2.0.6 (from spacy)\n",
      "  Using cached catalogue-2.0.10-py3-none-any.whl.metadata (14 kB)\n",
      "Collecting weasel<0.5.0,>=0.1.0 (from spacy)\n",
      "  Using cached weasel-0.4.1-py3-none-any.whl.metadata (4.6 kB)\n",
      "Collecting typer<1.0.0,>=0.3.0 (from spacy)\n",
      "  Using cached typer-0.15.1-py3-none-any.whl.metadata (15 kB)\n",
      "Requirement already satisfied: tqdm<5.0.0,>=4.38.0 in c:\\users\\ericz\\simple-local-rag\\.venv\\lib\\site-packages (from spacy) (4.67.1)\n",
      "Requirement already satisfied: numpy>=1.19.0 in c:\\users\\ericz\\simple-local-rag\\.venv\\lib\\site-packages (from spacy) (1.26.4)\n",
      "Requirement already satisfied: requests<3.0.0,>=2.13.0 in c:\\users\\ericz\\simple-local-rag\\.venv\\lib\\site-packages (from spacy) (2.32.3)\n",
      "Requirement already satisfied: pydantic!=1.8,!=1.8.1,<3.0.0,>=1.7.4 in c:\\users\\ericz\\simple-local-rag\\.venv\\lib\\site-packages (from spacy) (2.10.6)\n",
      "Requirement already satisfied: jinja2 in c:\\users\\ericz\\simple-local-rag\\.venv\\lib\\site-packages (from spacy) (3.1.5)\n",
      "Requirement already satisfied: setuptools in c:\\users\\ericz\\simple-local-rag\\.venv\\lib\\site-packages (from spacy) (65.5.0)\n",
      "Requirement already satisfied: packaging>=20.0 in c:\\users\\ericz\\simple-local-rag\\.venv\\lib\\site-packages (from spacy) (24.2)\n",
      "Collecting langcodes<4.0.0,>=3.2.0 (from spacy)\n",
      "  Using cached langcodes-3.5.0-py3-none-any.whl.metadata (29 kB)\n",
      "Collecting language-data>=1.2 (from langcodes<4.0.0,>=3.2.0->spacy)\n",
      "  Using cached language_data-1.3.0-py3-none-any.whl.metadata (4.3 kB)\n",
      "Requirement already satisfied: annotated-types>=0.6.0 in c:\\users\\ericz\\simple-local-rag\\.venv\\lib\\site-packages (from pydantic!=1.8,!=1.8.1,<3.0.0,>=1.7.4->spacy) (0.7.0)\n",
      "Requirement already satisfied: pydantic-core==2.27.2 in c:\\users\\ericz\\simple-local-rag\\.venv\\lib\\site-packages (from pydantic!=1.8,!=1.8.1,<3.0.0,>=1.7.4->spacy) (2.27.2)\n",
      "Requirement already satisfied: typing-extensions>=4.12.2 in c:\\users\\ericz\\simple-local-rag\\.venv\\lib\\site-packages (from pydantic!=1.8,!=1.8.1,<3.0.0,>=1.7.4->spacy) (4.12.2)\n",
      "Requirement already satisfied: charset-normalizer<4,>=2 in c:\\users\\ericz\\simple-local-rag\\.venv\\lib\\site-packages (from requests<3.0.0,>=2.13.0->spacy) (3.4.1)\n",
      "Requirement already satisfied: idna<4,>=2.5 in c:\\users\\ericz\\simple-local-rag\\.venv\\lib\\site-packages (from requests<3.0.0,>=2.13.0->spacy) (3.10)\n",
      "Requirement already satisfied: urllib3<3,>=1.21.1 in c:\\users\\ericz\\simple-local-rag\\.venv\\lib\\site-packages (from requests<3.0.0,>=2.13.0->spacy) (2.3.0)\n",
      "Requirement already satisfied: certifi>=2017.4.17 in c:\\users\\ericz\\simple-local-rag\\.venv\\lib\\site-packages (from requests<3.0.0,>=2.13.0->spacy) (2025.1.31)\n",
      "Collecting blis<1.3.0,>=1.2.0 (from thinc<8.4.0,>=8.3.4->spacy)\n",
      "  Using cached blis-1.2.0-cp311-cp311-win_amd64.whl.metadata (7.9 kB)\n",
      "Collecting confection<1.0.0,>=0.0.1 (from thinc<8.4.0,>=8.3.4->spacy)\n",
      "  Using cached confection-0.1.5-py3-none-any.whl.metadata (19 kB)\n",
      "Requirement already satisfied: colorama in c:\\users\\ericz\\simple-local-rag\\.venv\\lib\\site-packages (from tqdm<5.0.0,>=4.38.0->spacy) (0.4.6)\n",
      "Requirement already satisfied: click>=8.0.0 in c:\\users\\ericz\\simple-local-rag\\.venv\\lib\\site-packages (from typer<1.0.0,>=0.3.0->spacy) (8.1.8)\n",
      "Collecting shellingham>=1.3.0 (from typer<1.0.0,>=0.3.0->spacy)\n",
      "  Using cached shellingham-1.5.4-py2.py3-none-any.whl.metadata (3.5 kB)\n",
      "Collecting rich>=10.11.0 (from typer<1.0.0,>=0.3.0->spacy)\n",
      "  Using cached rich-13.9.4-py3-none-any.whl.metadata (18 kB)\n",
      "Collecting cloudpathlib<1.0.0,>=0.7.0 (from weasel<0.5.0,>=0.1.0->spacy)\n",
      "  Using cached cloudpathlib-0.20.0-py3-none-any.whl.metadata (14 kB)\n",
      "Collecting smart-open<8.0.0,>=5.2.1 (from weasel<0.5.0,>=0.1.0->spacy)\n",
      "  Using cached smart_open-7.1.0-py3-none-any.whl.metadata (24 kB)\n",
      "Requirement already satisfied: MarkupSafe>=2.0 in c:\\users\\ericz\\simple-local-rag\\.venv\\lib\\site-packages (from jinja2->spacy) (3.0.2)\n",
      "Collecting marisa-trie>=1.1.0 (from language-data>=1.2->langcodes<4.0.0,>=3.2.0->spacy)\n",
      "  Using cached marisa_trie-1.2.1-cp311-cp311-win_amd64.whl.metadata (9.3 kB)\n",
      "Collecting markdown-it-py>=2.2.0 (from rich>=10.11.0->typer<1.0.0,>=0.3.0->spacy)\n",
      "  Using cached markdown_it_py-3.0.0-py3-none-any.whl.metadata (6.9 kB)\n",
      "Requirement already satisfied: pygments<3.0.0,>=2.13.0 in c:\\users\\ericz\\simple-local-rag\\.venv\\lib\\site-packages (from rich>=10.11.0->typer<1.0.0,>=0.3.0->spacy) (2.19.1)\n",
      "Requirement already satisfied: wrapt in c:\\users\\ericz\\simple-local-rag\\.venv\\lib\\site-packages (from smart-open<8.0.0,>=5.2.1->weasel<0.5.0,>=0.1.0->spacy) (1.17.2)\n",
      "Collecting mdurl~=0.1 (from markdown-it-py>=2.2.0->rich>=10.11.0->typer<1.0.0,>=0.3.0->spacy)\n",
      "  Using cached mdurl-0.1.2-py3-none-any.whl.metadata (1.6 kB)\n",
      "Using cached spacy-3.8.4-cp311-cp311-win_amd64.whl (12.2 MB)\n",
      "Using cached catalogue-2.0.10-py3-none-any.whl (17 kB)\n",
      "Using cached cymem-2.0.11-cp311-cp311-win_amd64.whl (39 kB)\n",
      "Using cached langcodes-3.5.0-py3-none-any.whl (182 kB)\n",
      "Using cached murmurhash-1.0.12-cp311-cp311-win_amd64.whl (25 kB)\n",
      "Using cached preshed-3.0.9-cp311-cp311-win_amd64.whl (122 kB)\n",
      "Using cached spacy_legacy-3.0.12-py2.py3-none-any.whl (29 kB)\n",
      "Using cached spacy_loggers-1.0.5-py3-none-any.whl (22 kB)\n",
      "Using cached srsly-2.5.1-cp311-cp311-win_amd64.whl (632 kB)\n",
      "Using cached thinc-8.3.4-cp311-cp311-win_amd64.whl (1.5 MB)\n",
      "Using cached typer-0.15.1-py3-none-any.whl (44 kB)\n",
      "Using cached wasabi-1.1.3-py3-none-any.whl (27 kB)\n",
      "Using cached weasel-0.4.1-py3-none-any.whl (50 kB)\n",
      "Using cached blis-1.2.0-cp311-cp311-win_amd64.whl (6.2 MB)\n",
      "Using cached cloudpathlib-0.20.0-py3-none-any.whl (52 kB)\n",
      "Using cached confection-0.1.5-py3-none-any.whl (35 kB)\n",
      "Using cached language_data-1.3.0-py3-none-any.whl (5.4 MB)\n",
      "Using cached rich-13.9.4-py3-none-any.whl (242 kB)\n",
      "Using cached shellingham-1.5.4-py2.py3-none-any.whl (9.8 kB)\n",
      "Using cached smart_open-7.1.0-py3-none-any.whl (61 kB)\n",
      "Using cached marisa_trie-1.2.1-cp311-cp311-win_amd64.whl (152 kB)\n",
      "Using cached markdown_it_py-3.0.0-py3-none-any.whl (87 kB)\n",
      "Using cached mdurl-0.1.2-py3-none-any.whl (10.0 kB)\n",
      "Installing collected packages: cymem, wasabi, spacy-loggers, spacy-legacy, smart-open, shellingham, murmurhash, mdurl, marisa-trie, cloudpathlib, catalogue, blis, srsly, preshed, markdown-it-py, language-data, rich, langcodes, confection, typer, thinc, weasel, spacy\n",
      "Successfully installed blis-1.2.0 catalogue-2.0.10 cloudpathlib-0.20.0 confection-0.1.5 cymem-2.0.11 langcodes-3.5.0 language-data-1.3.0 marisa-trie-1.2.1 markdown-it-py-3.0.0 mdurl-0.1.2 murmurhash-1.0.12 preshed-3.0.9 rich-13.9.4 shellingham-1.5.4 smart-open-7.1.0 spacy-3.8.4 spacy-legacy-3.0.12 spacy-loggers-1.0.5 srsly-2.5.1 thinc-8.3.4 typer-0.15.1 wasabi-1.1.3 weasel-0.4.1\n"
     ]
    }
   ],
   "source": [
    "# !pip install spacy"
   ]
  },
  {
   "cell_type": "code",
   "execution_count": 6,
   "id": "675937fa-b4dc-4672-8270-c80e9213c21a",
   "metadata": {},
   "outputs": [
    {
     "data": {
      "text/plain": [
       "[This is a sent., This is another sent., This is a 3rd.]"
      ]
     },
     "execution_count": 6,
     "metadata": {},
     "output_type": "execute_result"
    }
   ],
   "source": [
    "from spacy.lang.en import English\n",
    "\n",
    "nlp = English()\n",
    "\n",
    "# Sentencizer pipeline using Spacy- turning texts into sentences \n",
    "nlp.add_pipe(\"sentencizer\")\n",
    "\n",
    "# Create a document instance \n",
    "doc = nlp(\"This is a sent. This is another sent. This is a 3rd.\")\n",
    "assert len(list(doc.sents)) == 3 \n",
    "\n",
    "list(doc.sents)\n"
   ]
  },
  {
   "cell_type": "code",
   "execution_count": 7,
   "id": "2404e772-ffe1-4bb8-a0ce-76396366b1bf",
   "metadata": {},
   "outputs": [
    {
     "data": {
      "application/vnd.jupyter.widget-view+json": {
       "model_id": "4bcbd5a36fed445d869068bc679a64ad",
       "version_major": 2,
       "version_minor": 0
      },
      "text/plain": [
       "  0%|          | 0/650 [00:00<?, ?it/s]"
      ]
     },
     "metadata": {},
     "output_type": "display_data"
    }
   ],
   "source": [
    "for item in tqdm(pages_and_texts):\n",
    "    item[\"sentences\"] = list(nlp(item[\"text\"]).sents)\n",
    "    item[\"sentences\"] = [str(sentence) for sentence in item[\"sentences\"]]\n",
    "    item[\"page_sentence_count_spacy\"] = len(item[\"sentences\"])"
   ]
  },
  {
   "cell_type": "code",
   "execution_count": 8,
   "id": "8543699d-7230-46e4-bd97-afeab78508fe",
   "metadata": {},
   "outputs": [
    {
     "data": {
      "text/plain": [
       "[{'page_number': 0,\n",
       "  'page_char_count': 59,\n",
       "  'page_word_count': 9,\n",
       "  'page_sentence_count_raw': 1,\n",
       "  'page_token_count': 14.75,\n",
       "  'text': 'PART 1 Commentary on Drug Interactions and Their Mechanisms',\n",
       "  'sentences': ['PART 1 Commentary on Drug Interactions and Their Mechanisms'],\n",
       "  'page_sentence_count_spacy': 1}]"
      ]
     },
     "execution_count": 8,
     "metadata": {},
     "output_type": "execute_result"
    }
   ],
   "source": [
    "random.sample(pages_and_texts, k=1)"
   ]
  },
  {
   "cell_type": "code",
   "execution_count": 9,
   "id": "032888bf-1c1e-4438-b19e-b306bce56c42",
   "metadata": {},
   "outputs": [
    {
     "data": {
      "text/html": [
       "<div>\n",
       "<style scoped>\n",
       "    .dataframe tbody tr th:only-of-type {\n",
       "        vertical-align: middle;\n",
       "    }\n",
       "\n",
       "    .dataframe tbody tr th {\n",
       "        vertical-align: top;\n",
       "    }\n",
       "\n",
       "    .dataframe thead th {\n",
       "        text-align: right;\n",
       "    }\n",
       "</style>\n",
       "<table border=\"1\" class=\"dataframe\">\n",
       "  <thead>\n",
       "    <tr style=\"text-align: right;\">\n",
       "      <th></th>\n",
       "      <th>page_number</th>\n",
       "      <th>page_char_count</th>\n",
       "      <th>page_word_count</th>\n",
       "      <th>page_sentence_count_raw</th>\n",
       "      <th>page_token_count</th>\n",
       "      <th>page_sentence_count_spacy</th>\n",
       "    </tr>\n",
       "  </thead>\n",
       "  <tbody>\n",
       "    <tr>\n",
       "      <th>count</th>\n",
       "      <td>650.00</td>\n",
       "      <td>650.00</td>\n",
       "      <td>650.00</td>\n",
       "      <td>650.00</td>\n",
       "      <td>650.00</td>\n",
       "      <td>650.00</td>\n",
       "    </tr>\n",
       "    <tr>\n",
       "      <th>mean</th>\n",
       "      <td>324.50</td>\n",
       "      <td>1960.83</td>\n",
       "      <td>293.93</td>\n",
       "      <td>21.74</td>\n",
       "      <td>490.21</td>\n",
       "      <td>20.33</td>\n",
       "    </tr>\n",
       "    <tr>\n",
       "      <th>std</th>\n",
       "      <td>187.78</td>\n",
       "      <td>794.46</td>\n",
       "      <td>132.54</td>\n",
       "      <td>24.95</td>\n",
       "      <td>198.61</td>\n",
       "      <td>22.66</td>\n",
       "    </tr>\n",
       "    <tr>\n",
       "      <th>min</th>\n",
       "      <td>0.00</td>\n",
       "      <td>34.00</td>\n",
       "      <td>4.00</td>\n",
       "      <td>1.00</td>\n",
       "      <td>8.50</td>\n",
       "      <td>1.00</td>\n",
       "    </tr>\n",
       "    <tr>\n",
       "      <th>25%</th>\n",
       "      <td>162.25</td>\n",
       "      <td>1718.00</td>\n",
       "      <td>240.00</td>\n",
       "      <td>11.00</td>\n",
       "      <td>429.50</td>\n",
       "      <td>10.00</td>\n",
       "    </tr>\n",
       "    <tr>\n",
       "      <th>50%</th>\n",
       "      <td>324.50</td>\n",
       "      <td>2025.00</td>\n",
       "      <td>291.50</td>\n",
       "      <td>14.00</td>\n",
       "      <td>506.25</td>\n",
       "      <td>14.00</td>\n",
       "    </tr>\n",
       "    <tr>\n",
       "      <th>75%</th>\n",
       "      <td>486.75</td>\n",
       "      <td>2432.75</td>\n",
       "      <td>365.75</td>\n",
       "      <td>18.75</td>\n",
       "      <td>608.19</td>\n",
       "      <td>18.00</td>\n",
       "    </tr>\n",
       "    <tr>\n",
       "      <th>max</th>\n",
       "      <td>649.00</td>\n",
       "      <td>3925.00</td>\n",
       "      <td>598.00</td>\n",
       "      <td>106.00</td>\n",
       "      <td>981.25</td>\n",
       "      <td>103.00</td>\n",
       "    </tr>\n",
       "  </tbody>\n",
       "</table>\n",
       "</div>"
      ],
      "text/plain": [
       "       page_number  page_char_count  page_word_count  page_sentence_count_raw  \\\n",
       "count       650.00           650.00           650.00                   650.00   \n",
       "mean        324.50          1960.83           293.93                    21.74   \n",
       "std         187.78           794.46           132.54                    24.95   \n",
       "min           0.00            34.00             4.00                     1.00   \n",
       "25%         162.25          1718.00           240.00                    11.00   \n",
       "50%         324.50          2025.00           291.50                    14.00   \n",
       "75%         486.75          2432.75           365.75                    18.75   \n",
       "max         649.00          3925.00           598.00                   106.00   \n",
       "\n",
       "       page_token_count  page_sentence_count_spacy  \n",
       "count            650.00                     650.00  \n",
       "mean             490.21                      20.33  \n",
       "std              198.61                      22.66  \n",
       "min                8.50                       1.00  \n",
       "25%              429.50                      10.00  \n",
       "50%              506.25                      14.00  \n",
       "75%              608.19                      18.00  \n",
       "max              981.25                     103.00  "
      ]
     },
     "execution_count": 9,
     "metadata": {},
     "output_type": "execute_result"
    }
   ],
   "source": [
    "df = pd.DataFrame(pages_and_texts)\n",
    "df.describe().round(2)"
   ]
  },
  {
   "cell_type": "markdown",
   "id": "14c20ad5-2238-4787-ac1e-5c7b69580ef1",
   "metadata": {},
   "source": [
    "# Chunking sentences into groups of n sentences, arbitrary number choice\n",
    "e.g. framworks such as langchain\n",
    "1. texts are easier to filter\n",
    "2. text chunks can fit into embedding model context window\n",
    "3. contexts passed to LLM can be more specific and focused "
   ]
  },
  {
   "cell_type": "code",
   "execution_count": 10,
   "id": "8f2815f6-463d-4590-9559-e2fe589e2f95",
   "metadata": {},
   "outputs": [
    {
     "data": {
      "text/plain": [
       "[[0, 1, 2, 3, 4],\n",
       " [5, 6, 7, 8, 9],\n",
       " [10, 11, 12, 13, 14],\n",
       " [15, 16, 17, 18, 19],\n",
       " [20, 21, 22, 23, 24]]"
      ]
     },
     "execution_count": 10,
     "metadata": {},
     "output_type": "execute_result"
    }
   ],
   "source": [
    "num_sentence_chunk_size = 5\n",
    "\n",
    "def split_list(input_list: list[str], \n",
    "               slice_size: int = num_sentence_chunk_size) -> list[list[str]]:\n",
    "    return [input_list[i:i+slice_size] for i in range(0, len(input_list), slice_size)]\n",
    "\n",
    "test_list = list(range(25))\n",
    "split_list(test_list)"
   ]
  },
  {
   "cell_type": "code",
   "execution_count": 11,
   "id": "508a6204-8714-406a-b207-9ac89a2ff5b9",
   "metadata": {},
   "outputs": [
    {
     "data": {
      "application/vnd.jupyter.widget-view+json": {
       "model_id": "2bdd3e979498419fa81ba7c5dabd7ba2",
       "version_major": 2,
       "version_minor": 0
      },
      "text/plain": [
       "  0%|          | 0/650 [00:00<?, ?it/s]"
      ]
     },
     "metadata": {},
     "output_type": "display_data"
    },
    {
     "data": {
      "text/plain": [
       "[{'page_number': 573,\n",
       "  'page_char_count': 2551,\n",
       "  'page_word_count': 394,\n",
       "  'page_sentence_count_raw': 11,\n",
       "  'page_token_count': 637.75,\n",
       "  'text': '574 A MANUAL OF ADVERSE DRUG INTERACTIONS does not always imply that a lesser amount of drug is absorbed, but rather that the time for a drug to reach peak levels after a single dose in lengthened ((11). Vitamin and mineral supplements are a common combination and are readily obtained as non-prescription medicines. The possibility of their interaction with prescribed medicines may not be appreciated. It is the mineral component of the combination product, as well as the mineral content of antacids and some laxatives that is responsible for the majority of these interactions. It should not be forgotten that many foods are rich in minerals and these may also enter into interactions (e.g. with tetracyclines and dairy products), in addition branded breakfast cereals have added minerals and vitamins. A list showing the mineral content of common food- stuffs is given at the end of this chapter (Table 6), and in this respect it must be remembered that the portion of food normally consumed should be taken into account as well as its mineral content. The following Tables of Drug Interactions are divided into two main parts; firstly, those nutrient-drug interactions causing reduced | delayed absorption or reduced bioavailabilty , and secondly those interactions causing increased absorption or bio- availability. These are based on a recent review by D\\'Arcy (12). PART1: REDUCEDORDELAYEDABSORPTIONANDREDUCED BIOAVAIL ABILITY For convenience, drugs other than antimicrobial agents are listed in Table 1 and antimicrobial agents in Table 2. Drug names printed in bold face in the table are those which enter into well- Table 1, DRUGS (OTHER THAN ANTIMICROBIAL AGENTS) WHOSE ABSORPTION FROM THE GUT MAY BE REDUCED (R) OR DELAYED (D), OR WHOSE THERAPEUTIC EFFECTS MAY BE ANTAGONIZED (A), OR WHOSE BIOAVAILABILIT\" MAY BE REDUCED (RB) BY THE PRESENCE OF FOOD OR METAL IONS (SPECIFIED) acetaminophen (D) (13) alendroate sodium (R) (14-16) ambenonium chloride (R) (17) aminohexane diphosphonate (AHDP, neridronic acid) (R) (18) atenolol (R) (A1 ions) (19) bisphosphonates (R) (14-16, 20-26) captopril (R) (27, 28) carbidopa (R) (29) chloroquine (R) (30, 31) digoxin (D) (32-34) etidronate (R) (20-23) flecainide (R) (milk) (35) levodopa (R) (iron salts) (29, 36) (food, amino acids) (37-40) P-methyldigoxin (D) (32) methyldopa (R) (41) nitrendipine (R) (42-44) pamidronate disodium (R) (22) penicillamine (R) (food, iron, antacids) (45, 46) (RB) (47) phenytoin (R) (antacids) (48, 49) pyrimethamine (R) (30) tiludronate (R) (30) warfarin (A) (50-55)',\n",
       "  'sentences': ['574 A MANUAL OF ADVERSE DRUG INTERACTIONS does not always imply that a lesser amount of drug is absorbed, but rather that the time for a drug to reach peak levels after a single dose in lengthened ((11).',\n",
       "   'Vitamin and mineral supplements are a common combination and are readily obtained as non-prescription medicines.',\n",
       "   'The possibility of their interaction with prescribed medicines may not be appreciated.',\n",
       "   'It is the mineral component of the combination product, as well as the mineral content of antacids and some laxatives that is responsible for the majority of these interactions.',\n",
       "   'It should not be forgotten that many foods are rich in minerals and these may also enter into interactions (e.g. with tetracyclines and dairy products), in addition branded breakfast cereals have added minerals and vitamins.',\n",
       "   'A list showing the mineral content of common food- stuffs is given at the end of this chapter (Table 6), and in this respect it must be remembered that the portion of food normally consumed should be taken into account as well as its mineral content.',\n",
       "   'The following Tables of Drug Interactions are divided into two main parts; firstly, those nutrient-drug interactions causing reduced | delayed absorption or reduced bioavailabilty , and secondly those interactions causing increased absorption or bio- availability.',\n",
       "   \"These are based on a recent review by D'Arcy (12).\",\n",
       "   'PART1: REDUCEDORDELAYEDABSORPTIONANDREDUCED BIOAVAIL ABILITY For convenience, drugs other than antimicrobial agents are listed in Table 1 and antimicrobial agents in Table 2.',\n",
       "   'Drug names printed in bold face in the table are those which enter into well- Table 1, DRUGS (OTHER THAN ANTIMICROBIAL AGENTS) WHOSE ABSORPTION FROM THE GUT MAY BE REDUCED (R) OR DELAYED (D), OR WHOSE THERAPEUTIC EFFECTS MAY BE ANTAGONIZED (A), OR WHOSE BIOAVAILABILIT\" MAY BE REDUCED (RB) BY THE PRESENCE OF FOOD OR METAL IONS (SPECIFIED) acetaminophen (D) (13) alendroate sodium (R) (14-16) ambenonium chloride (R) (17) aminohexane diphosphonate (AHDP, neridronic acid) (R) (18) atenolol (R) (A1 ions) (19) bisphosphonates (R) (14-16, 20-26) captopril (R) (27, 28) carbidopa (R) (29) chloroquine (R) (30, 31) digoxin (D) (32-34) etidronate (R) (20-23) flecainide (R) (milk) (35) levodopa (R) (iron salts) (29, 36) (food, amino acids) (37-40) P-methyldigoxin (D) (32) methyldopa (R) (41) nitrendipine (R) (42-44) pamidronate disodium (R) (22) penicillamine (R) (food, iron, antacids) (45, 46) (RB) (47) phenytoin (R) (antacids) (48, 49) pyrimethamine (R) (30) tiludronate (R) (30) warfarin (A) (50-55)'],\n",
       "  'page_sentence_count_spacy': 10,\n",
       "  'sentence_chunks': [['574 A MANUAL OF ADVERSE DRUG INTERACTIONS does not always imply that a lesser amount of drug is absorbed, but rather that the time for a drug to reach peak levels after a single dose in lengthened ((11).',\n",
       "    'Vitamin and mineral supplements are a common combination and are readily obtained as non-prescription medicines.',\n",
       "    'The possibility of their interaction with prescribed medicines may not be appreciated.',\n",
       "    'It is the mineral component of the combination product, as well as the mineral content of antacids and some laxatives that is responsible for the majority of these interactions.',\n",
       "    'It should not be forgotten that many foods are rich in minerals and these may also enter into interactions (e.g. with tetracyclines and dairy products), in addition branded breakfast cereals have added minerals and vitamins.'],\n",
       "   ['A list showing the mineral content of common food- stuffs is given at the end of this chapter (Table 6), and in this respect it must be remembered that the portion of food normally consumed should be taken into account as well as its mineral content.',\n",
       "    'The following Tables of Drug Interactions are divided into two main parts; firstly, those nutrient-drug interactions causing reduced | delayed absorption or reduced bioavailabilty , and secondly those interactions causing increased absorption or bio- availability.',\n",
       "    \"These are based on a recent review by D'Arcy (12).\",\n",
       "    'PART1: REDUCEDORDELAYEDABSORPTIONANDREDUCED BIOAVAIL ABILITY For convenience, drugs other than antimicrobial agents are listed in Table 1 and antimicrobial agents in Table 2.',\n",
       "    'Drug names printed in bold face in the table are those which enter into well- Table 1, DRUGS (OTHER THAN ANTIMICROBIAL AGENTS) WHOSE ABSORPTION FROM THE GUT MAY BE REDUCED (R) OR DELAYED (D), OR WHOSE THERAPEUTIC EFFECTS MAY BE ANTAGONIZED (A), OR WHOSE BIOAVAILABILIT\" MAY BE REDUCED (RB) BY THE PRESENCE OF FOOD OR METAL IONS (SPECIFIED) acetaminophen (D) (13) alendroate sodium (R) (14-16) ambenonium chloride (R) (17) aminohexane diphosphonate (AHDP, neridronic acid) (R) (18) atenolol (R) (A1 ions) (19) bisphosphonates (R) (14-16, 20-26) captopril (R) (27, 28) carbidopa (R) (29) chloroquine (R) (30, 31) digoxin (D) (32-34) etidronate (R) (20-23) flecainide (R) (milk) (35) levodopa (R) (iron salts) (29, 36) (food, amino acids) (37-40) P-methyldigoxin (D) (32) methyldopa (R) (41) nitrendipine (R) (42-44) pamidronate disodium (R) (22) penicillamine (R) (food, iron, antacids) (45, 46) (RB) (47) phenytoin (R) (antacids) (48, 49) pyrimethamine (R) (30) tiludronate (R) (30) warfarin (A) (50-55)']],\n",
       "  'num_chunks': 2}]"
      ]
     },
     "execution_count": 11,
     "metadata": {},
     "output_type": "execute_result"
    }
   ],
   "source": [
    "# split sentences nito chunk\n",
    "\n",
    "for item in tqdm(pages_and_texts):\n",
    "    item[\"sentence_chunks\"] = split_list(input_list = item[\"sentences\"], slice_size = num_sentence_chunk_size)\n",
    "\n",
    "    item[\"num_chunks\"] = len(item[\"sentence_chunks\"])\n",
    "\n",
    "random.sample(pages_and_texts, k=1)"
   ]
  },
  {
   "cell_type": "code",
   "execution_count": 12,
   "id": "e51a380d-09db-4e87-9e22-1d57505dfd29",
   "metadata": {},
   "outputs": [
    {
     "data": {
      "text/html": [
       "<div>\n",
       "<style scoped>\n",
       "    .dataframe tbody tr th:only-of-type {\n",
       "        vertical-align: middle;\n",
       "    }\n",
       "\n",
       "    .dataframe tbody tr th {\n",
       "        vertical-align: top;\n",
       "    }\n",
       "\n",
       "    .dataframe thead th {\n",
       "        text-align: right;\n",
       "    }\n",
       "</style>\n",
       "<table border=\"1\" class=\"dataframe\">\n",
       "  <thead>\n",
       "    <tr style=\"text-align: right;\">\n",
       "      <th></th>\n",
       "      <th>page_number</th>\n",
       "      <th>page_char_count</th>\n",
       "      <th>page_word_count</th>\n",
       "      <th>page_sentence_count_raw</th>\n",
       "      <th>page_token_count</th>\n",
       "      <th>page_sentence_count_spacy</th>\n",
       "      <th>num_chunks</th>\n",
       "    </tr>\n",
       "  </thead>\n",
       "  <tbody>\n",
       "    <tr>\n",
       "      <th>count</th>\n",
       "      <td>650.00</td>\n",
       "      <td>650.00</td>\n",
       "      <td>650.00</td>\n",
       "      <td>650.00</td>\n",
       "      <td>650.00</td>\n",
       "      <td>650.00</td>\n",
       "      <td>650.00</td>\n",
       "    </tr>\n",
       "    <tr>\n",
       "      <th>mean</th>\n",
       "      <td>324.50</td>\n",
       "      <td>1960.83</td>\n",
       "      <td>293.93</td>\n",
       "      <td>21.74</td>\n",
       "      <td>490.21</td>\n",
       "      <td>20.33</td>\n",
       "      <td>4.50</td>\n",
       "    </tr>\n",
       "    <tr>\n",
       "      <th>std</th>\n",
       "      <td>187.78</td>\n",
       "      <td>794.46</td>\n",
       "      <td>132.54</td>\n",
       "      <td>24.95</td>\n",
       "      <td>198.61</td>\n",
       "      <td>22.66</td>\n",
       "      <td>4.49</td>\n",
       "    </tr>\n",
       "    <tr>\n",
       "      <th>min</th>\n",
       "      <td>0.00</td>\n",
       "      <td>34.00</td>\n",
       "      <td>4.00</td>\n",
       "      <td>1.00</td>\n",
       "      <td>8.50</td>\n",
       "      <td>1.00</td>\n",
       "      <td>1.00</td>\n",
       "    </tr>\n",
       "    <tr>\n",
       "      <th>25%</th>\n",
       "      <td>162.25</td>\n",
       "      <td>1718.00</td>\n",
       "      <td>240.00</td>\n",
       "      <td>11.00</td>\n",
       "      <td>429.50</td>\n",
       "      <td>10.00</td>\n",
       "      <td>2.00</td>\n",
       "    </tr>\n",
       "    <tr>\n",
       "      <th>50%</th>\n",
       "      <td>324.50</td>\n",
       "      <td>2025.00</td>\n",
       "      <td>291.50</td>\n",
       "      <td>14.00</td>\n",
       "      <td>506.25</td>\n",
       "      <td>14.00</td>\n",
       "      <td>3.00</td>\n",
       "    </tr>\n",
       "    <tr>\n",
       "      <th>75%</th>\n",
       "      <td>486.75</td>\n",
       "      <td>2432.75</td>\n",
       "      <td>365.75</td>\n",
       "      <td>18.75</td>\n",
       "      <td>608.19</td>\n",
       "      <td>18.00</td>\n",
       "      <td>4.00</td>\n",
       "    </tr>\n",
       "    <tr>\n",
       "      <th>max</th>\n",
       "      <td>649.00</td>\n",
       "      <td>3925.00</td>\n",
       "      <td>598.00</td>\n",
       "      <td>106.00</td>\n",
       "      <td>981.25</td>\n",
       "      <td>103.00</td>\n",
       "      <td>21.00</td>\n",
       "    </tr>\n",
       "  </tbody>\n",
       "</table>\n",
       "</div>"
      ],
      "text/plain": [
       "       page_number  page_char_count  page_word_count  page_sentence_count_raw  \\\n",
       "count       650.00           650.00           650.00                   650.00   \n",
       "mean        324.50          1960.83           293.93                    21.74   \n",
       "std         187.78           794.46           132.54                    24.95   \n",
       "min           0.00            34.00             4.00                     1.00   \n",
       "25%         162.25          1718.00           240.00                    11.00   \n",
       "50%         324.50          2025.00           291.50                    14.00   \n",
       "75%         486.75          2432.75           365.75                    18.75   \n",
       "max         649.00          3925.00           598.00                   106.00   \n",
       "\n",
       "       page_token_count  page_sentence_count_spacy  num_chunks  \n",
       "count            650.00                     650.00      650.00  \n",
       "mean             490.21                      20.33        4.50  \n",
       "std              198.61                      22.66        4.49  \n",
       "min                8.50                       1.00        1.00  \n",
       "25%              429.50                      10.00        2.00  \n",
       "50%              506.25                      14.00        3.00  \n",
       "75%              608.19                      18.00        4.00  \n",
       "max              981.25                     103.00       21.00  "
      ]
     },
     "execution_count": 12,
     "metadata": {},
     "output_type": "execute_result"
    }
   ],
   "source": [
    "df = pd.DataFrame(pages_and_texts)\n",
    "df.describe().round(2)"
   ]
  },
  {
   "cell_type": "markdown",
   "id": "bc0a6f59-07ca-4e87-a99e-2e9ad1ec1a3b",
   "metadata": {},
   "source": [
    "## Split each chunk into its own item \n",
    "for granularity to dive itno text sample "
   ]
  },
  {
   "cell_type": "code",
   "execution_count": 13,
   "id": "9906b34b-6cf9-4c66-ac66-d7f262b2cbb7",
   "metadata": {},
   "outputs": [
    {
     "data": {
      "application/vnd.jupyter.widget-view+json": {
       "model_id": "53b05af7e8b343c9b8900daa6341ff1f",
       "version_major": 2,
       "version_minor": 0
      },
      "text/plain": [
       "  0%|          | 0/650 [00:00<?, ?it/s]"
      ]
     },
     "metadata": {},
     "output_type": "display_data"
    },
    {
     "data": {
      "text/plain": [
       "2928"
      ]
     },
     "execution_count": 13,
     "metadata": {},
     "output_type": "execute_result"
    }
   ],
   "source": [
    "import re \n",
    "pages_and_chunks = []\n",
    "for item in tqdm(pages_and_texts):\n",
    "    for sentence_chunk in item[\"sentence_chunks\"]:\n",
    "        chunk_dict = {}\n",
    "        chunk_dict[\"page_number\"] = item[\"page_number\"]\n",
    "\n",
    "        # join the sentences into paragraphs\n",
    "        joined_sentence_chunk = \"\".join(sentence_chunk).replace(\"  \", \" \").strip()\n",
    "        joined_sentence_chunk = re.sub(r'\\.([A-Z])', r'. \\1', joined_sentence_chunk)\n",
    "\n",
    "        chunk_dict[\"sentence_chunk\"] = joined_sentence_chunk\n",
    "        chunk_dict[\"chunk_char_count\"] = len(joined_sentence_chunk)\n",
    "        chunk_dict[\"chunk_word_count\"] = len([word for word in joined_sentence_chunk.split(\" \")])\n",
    "        chunk_dict[\"chunk_token_count\"] = len(joined_sentence_chunk) / 4 \n",
    "\n",
    "        pages_and_chunks.append(chunk_dict)\n",
    "\n",
    "len(pages_and_chunks)"
   ]
  },
  {
   "cell_type": "code",
   "execution_count": 14,
   "id": "bd611024-b986-455a-b08a-e4e1bef0449c",
   "metadata": {},
   "outputs": [
    {
     "data": {
      "text/plain": [
       "[{'page_number': 342,\n",
       "  'sentence_chunk': 'Changes in plasma concentration of phenytoin when administered concurrently with ciprofloxacin have been anticipated by the manufacturer (Miles Inc, package insert) but this is the first published report of such an interaction. The mechanism involved was thought to be ciprofloxacin’s induction of the P450 oxidative enzymes responsible for phenytoin’s metabolism. Nightly administration of dichloralphenazone significantly increased the clearance of phenytoin in an epileptic patient due to induced microsomal enzyme activity with loss of epileptic control. The interaction has been confirmed in healthy subjects. Phenobarbitone induces liver microsomal enzymes and thus increases the metabolism of phenytoin.',\n",
       "  'chunk_char_count': 710,\n",
       "  'chunk_word_count': 95,\n",
       "  'chunk_token_count': 177.5}]"
      ]
     },
     "execution_count": 14,
     "metadata": {},
     "output_type": "execute_result"
    }
   ],
   "source": [
    "random.sample(pages_and_chunks, k = 1)\n"
   ]
  },
  {
   "cell_type": "code",
   "execution_count": 15,
   "id": "3e27f2ea-af14-4228-91ae-56b78ac164e5",
   "metadata": {},
   "outputs": [
    {
     "data": {
      "text/html": [
       "<div>\n",
       "<style scoped>\n",
       "    .dataframe tbody tr th:only-of-type {\n",
       "        vertical-align: middle;\n",
       "    }\n",
       "\n",
       "    .dataframe tbody tr th {\n",
       "        vertical-align: top;\n",
       "    }\n",
       "\n",
       "    .dataframe thead th {\n",
       "        text-align: right;\n",
       "    }\n",
       "</style>\n",
       "<table border=\"1\" class=\"dataframe\">\n",
       "  <thead>\n",
       "    <tr style=\"text-align: right;\">\n",
       "      <th></th>\n",
       "      <th>page_number</th>\n",
       "      <th>chunk_char_count</th>\n",
       "      <th>chunk_word_count</th>\n",
       "      <th>chunk_token_count</th>\n",
       "    </tr>\n",
       "  </thead>\n",
       "  <tbody>\n",
       "    <tr>\n",
       "      <th>count</th>\n",
       "      <td>2928.00</td>\n",
       "      <td>2928.00</td>\n",
       "      <td>2928.00</td>\n",
       "      <td>2928.00</td>\n",
       "    </tr>\n",
       "    <tr>\n",
       "      <th>mean</th>\n",
       "      <td>319.92</td>\n",
       "      <td>433.27</td>\n",
       "      <td>64.00</td>\n",
       "      <td>108.32</td>\n",
       "    </tr>\n",
       "    <tr>\n",
       "      <th>std</th>\n",
       "      <td>176.50</td>\n",
       "      <td>413.84</td>\n",
       "      <td>58.07</td>\n",
       "      <td>103.46</td>\n",
       "    </tr>\n",
       "    <tr>\n",
       "      <th>min</th>\n",
       "      <td>0.00</td>\n",
       "      <td>2.00</td>\n",
       "      <td>1.00</td>\n",
       "      <td>0.50</td>\n",
       "    </tr>\n",
       "    <tr>\n",
       "      <th>25%</th>\n",
       "      <td>172.00</td>\n",
       "      <td>140.00</td>\n",
       "      <td>26.00</td>\n",
       "      <td>35.00</td>\n",
       "    </tr>\n",
       "    <tr>\n",
       "      <th>50%</th>\n",
       "      <td>323.50</td>\n",
       "      <td>269.00</td>\n",
       "      <td>41.00</td>\n",
       "      <td>67.25</td>\n",
       "    </tr>\n",
       "    <tr>\n",
       "      <th>75%</th>\n",
       "      <td>468.00</td>\n",
       "      <td>668.00</td>\n",
       "      <td>94.00</td>\n",
       "      <td>167.00</td>\n",
       "    </tr>\n",
       "    <tr>\n",
       "      <th>max</th>\n",
       "      <td>649.00</td>\n",
       "      <td>3387.00</td>\n",
       "      <td>518.00</td>\n",
       "      <td>846.75</td>\n",
       "    </tr>\n",
       "  </tbody>\n",
       "</table>\n",
       "</div>"
      ],
      "text/plain": [
       "       page_number  chunk_char_count  chunk_word_count  chunk_token_count\n",
       "count      2928.00           2928.00           2928.00            2928.00\n",
       "mean        319.92            433.27             64.00             108.32\n",
       "std         176.50            413.84             58.07             103.46\n",
       "min           0.00              2.00              1.00               0.50\n",
       "25%         172.00            140.00             26.00              35.00\n",
       "50%         323.50            269.00             41.00              67.25\n",
       "75%         468.00            668.00             94.00             167.00\n",
       "max         649.00           3387.00            518.00             846.75"
      ]
     },
     "execution_count": 15,
     "metadata": {},
     "output_type": "execute_result"
    }
   ],
   "source": [
    "df = pd.DataFrame(pages_and_chunks)\n",
    "df.describe().round(2)"
   ]
  },
  {
   "cell_type": "code",
   "execution_count": 16,
   "id": "440e43ab-973e-4b87-aefd-e2c53bcc37ef",
   "metadata": {},
   "outputs": [
    {
     "name": "stdout",
     "output_type": "stream",
     "text": [
      "Chunk token count: 32.25 | Text: 1969) Br Med J 1, 845.35 Humberstone PM. (1969) Br Med J 1, 846.36 Committee on Safety of Medicines. (1988) Curr Problems, NO 22.\n",
      "Chunk token count: 31.25 | Text: 84 Silver BA, Bell WSR. (1979) Ann Intern Med 90, 348.85 Wallin BA et al. (1979) Ann Intern Med 90, 993.86 Breckenridge AM. (\n",
      "Chunk token count: 25.5 | Text: 58 Kater RMH et al. (1969) Am J Med Sci 258, 35.59 Kater RMH et al. (1969) JAMA 207, 363.60 Iber FL. (\n",
      "Chunk token count: 28.75 | Text: 1977) Br Med J 2, 773.24 Serlin MJ et al. (1980) Br J Clin Pharmacol9, 287.25 Orme M et al. (1976) Br Med J 1, 200.\n",
      "Chunk token count: 40.5 | Text: Verapamil should not be used in the treatment of Wolff-Parkinson-White syndrome. Verapamil should not be injected into patients recently treated with p-adrenergic\n"
     ]
    }
   ],
   "source": [
    "# Filter for insiginficant short chunks\n",
    "min_token_length = 42\n",
    "for row in df[df[\"chunk_token_count\"] <= min_token_length].sample(5).iterrows():\n",
    "    print(f\"Chunk token count: {row[1]['chunk_token_count']} | Text: {row[1]['sentence_chunk']}\")\n"
   ]
  },
  {
   "cell_type": "code",
   "execution_count": 17,
   "id": "93037acd-0b59-4db1-9f11-1c02ad9821ba",
   "metadata": {},
   "outputs": [
    {
     "data": {
      "text/plain": [
       "[{'page_number': 2,\n",
       "  'sentence_chunk': 'INTRODUCTION: A WIDENING PROBLEM Over 20 years ago, an editorial on drug interactions in the Lancet (19 April 1975) said that the “publication of huge lists and tables will induce in doctors a drug- interaction-anxiety syndrome and lead to therapeutic paralysis”. This prediction has not come about, although the problem of drug interactions is still with us and the spectrum is widening as new drugs are introduced. Indeed it could be said that the nature of the problem has also widened for in the intervening years drug interactions have come to embrace interactions with food and with herbal medicines as well as the more numerous and better recognized drug-drug interactions. There is little doubt that drug-drug interactions can often be serious, even life- threatening. They can also be very expensive, and evidence from the Medical Defence Unions’ Reports of over 10 years ago reveals that one case which settled for &44 000 was due to phenylbutazone-induced potentiation of warfarin which was followed by an intraspinal haemorrhage resulting in an incomplete tetraplegia at the level of C7.',\n",
       "  'chunk_char_count': 1099,\n",
       "  'chunk_word_count': 176,\n",
       "  'chunk_token_count': 274.75},\n",
       " {'page_number': 2,\n",
       "  'sentence_chunk': 'It is interesting in this case that the solicitor’s letter stated that “Butazolidin is a well known potentiator of coumarin anticoagulants of which warfarin is one” . . . “the prescribing of Butazolidin for a patient known to be taking warfarin routinely was a breach of your professional duty to him”. Knowledge of the ‘state of the art’ has much advanced since the 1980s and what were then novel and scientifically interesting interactions are now established and well-recorded interactions in standard books of reference. Knowledge has advanced but there has been little progress in the way in which it is generated. SOURCES OF INFORMATION Most reports of drug-drug- or drug-food interaction arise primarily from experience in the clinic.',\n",
       "  'chunk_char_count': 741,\n",
       "  'chunk_word_count': 118,\n",
       "  'chunk_token_count': 185.25}]"
      ]
     },
     "execution_count": 17,
     "metadata": {},
     "output_type": "execute_result"
    }
   ],
   "source": [
    "pages_and_chunks_over_min_token_len = df[df[\"chunk_token_count\"] > min_token_length].to_dict(orient=\"records\")\n",
    "pages_and_chunks_over_min_token_len[:2]"
   ]
  },
  {
   "cell_type": "code",
   "execution_count": 18,
   "id": "148529ea-c44d-4c01-a55b-b0d6c5bad197",
   "metadata": {},
   "outputs": [
    {
     "data": {
      "text/plain": [
       "[{'page_number': 568,\n",
       "  'sentence_chunk': 'A disulfiram-like reaction also occurs with the parenteral cephalosporin, cephamandole (68), but not with other cephaloporins available in the UK. Patients should abstain from alcohol while taking the antibiotic',\n",
       "  'chunk_char_count': 211,\n",
       "  'chunk_word_count': 29,\n",
       "  'chunk_token_count': 52.75}]"
      ]
     },
     "execution_count": 18,
     "metadata": {},
     "output_type": "execute_result"
    }
   ],
   "source": [
    "random.sample(pages_and_chunks_over_min_token_len, k=1)"
   ]
  },
  {
   "cell_type": "markdown",
   "id": "d23d701d-d4a2-4734-92e3-f92b6e4cdaa0",
   "metadata": {},
   "source": [
    "### Embedding text chunks to numerical representations"
   ]
  },
  {
   "cell_type": "code",
   "execution_count": 20,
   "id": "0fec9795-d527-4dda-8d38-bf6b7f45fb4f",
   "metadata": {},
   "outputs": [
    {
     "name": "stdout",
     "output_type": "stream",
     "text": [
      "Model is on: cuda:0\n",
      "Sentence: The Sentences Transformers library provides an easy and open-source way to create embeddings.\n",
      "Embedding: [-0.00298849  0.02823196 -0.03635975 ...  0.00782592 -0.00111846\n",
      "  0.01117564]\n",
      "\n",
      "Sentence: Sentences can be embedded one by one or as a list of strings.\n",
      "Embedding: [-0.00834338 -0.01538954 -0.01188452 ... -0.00581899 -0.00116553\n",
      "  0.0249307 ]\n",
      "\n",
      "Sentence: Embeddings are one of the most powerful concepts in machine learning!\n",
      "Embedding: [ 0.0153289   0.01436272 -0.00261183 ...  0.01016328 -0.01206179\n",
      "  0.00810741]\n",
      "\n",
      "Sentence: Learn to use embeddings well and you'll be well on your way to being an AI engineer.\n",
      "Embedding: [ 0.00196116  0.05934048 -0.01474938 ... -0.02595543  0.01763771\n",
      "  0.00390331]\n",
      "\n"
     ]
    }
   ],
   "source": [
    "from sentence_transformers import SentenceTransformer\n",
    "embedding_model = model = SentenceTransformer('BAAI/bge-large-en-v1.5',\n",
    "                                             device=\"cuda\")\n",
    "print(f\"Model is on: {embedding_model.device}\")\n",
    "\n",
    "sentences = [\n",
    "    \"The Sentences Transformers library provides an easy and open-source way to create embeddings.\",\n",
    "    \"Sentences can be embedded one by one or as a list of strings.\",\n",
    "    \"Embeddings are one of the most powerful concepts in machine learning!\",\n",
    "    \"Learn to use embeddings well and you'll be well on your way to being an AI engineer.\"\n",
    "]\n",
    "# capture the meanings behind sentences through embedding\n",
    "\n",
    "embeddings = embedding_model.encode(sentences)\n",
    "embeddings_dict = dict(zip(sentences, embeddings))\n",
    "\n",
    "for sentence, embedding in embeddings_dict.items():\n",
    "    print(f\"Sentence: {sentence}\")\n",
    "    print(f\"Embedding: {embedding}\")\n",
    "    print(\"\")"
   ]
  },
  {
   "cell_type": "code",
   "execution_count": 21,
   "id": "a613ac9a-b878-43c1-a0b2-1738a62b9b63",
   "metadata": {},
   "outputs": [
    {
     "name": "stdout",
     "output_type": "stream",
     "text": [
      "True\n"
     ]
    }
   ],
   "source": [
    "import torch\n",
    "print(torch.cuda.is_available())  # Should return True if GPU is available"
   ]
  }
 ],
 "metadata": {
  "kernelspec": {
   "display_name": ".venv",
   "language": "python",
   "name": "python3"
  },
  "language_info": {
   "codemirror_mode": {
    "name": "ipython",
    "version": 3
   },
   "file_extension": ".py",
   "mimetype": "text/x-python",
   "name": "python",
   "nbconvert_exporter": "python",
   "pygments_lexer": "ipython3",
   "version": "3.11.0"
  }
 },
 "nbformat": 4,
 "nbformat_minor": 5
}
